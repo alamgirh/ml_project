{
  "nbformat": 4,
  "nbformat_minor": 0,
  "metadata": {
    "colab": {
      "name": "img2data.ipynb",
      "provenance": [],
      "machine_shape": "hm"
    },
    "kernelspec": {
      "name": "python3",
      "display_name": "Python 3"
    }
  },
  "cells": [
    {
      "cell_type": "code",
      "metadata": {
        "id": "SC92OyaosFxa",
        "colab": {
          "base_uri": "https://localhost:8080/"
        },
        "outputId": "793d5845-d79c-4022-86a6-2f5be06509a1"
      },
      "source": [
        "from google.colab import drive\n",
        "drive.mount('/content/drive')"
      ],
      "execution_count": null,
      "outputs": [
        {
          "output_type": "stream",
          "text": [
            "Drive already mounted at /content/drive; to attempt to forcibly remount, call drive.mount(\"/content/drive\", force_remount=True).\n"
          ],
          "name": "stdout"
        }
      ]
    },
    {
      "cell_type": "code",
      "metadata": {
        "colab": {
          "base_uri": "https://localhost:8080/"
        },
        "id": "QzSFp15fsclh",
        "outputId": "191fcc95-3a27-439e-aede-647e4840b918"
      },
      "source": [
        "%cd '/content/drive/MyDrive/'"
      ],
      "execution_count": null,
      "outputs": [
        {
          "output_type": "stream",
          "text": [
            "/content/drive/MyDrive\n"
          ],
          "name": "stdout"
        }
      ]
    },
    {
      "cell_type": "code",
      "metadata": {
        "id": "Qct9BRai_Xv1"
      },
      "source": [
        "!ls"
      ],
      "execution_count": null,
      "outputs": []
    },
    {
      "cell_type": "code",
      "metadata": {
        "id": "2ymn_vI8snNu"
      },
      "source": [
        "!python read_csv.py"
      ],
      "execution_count": null,
      "outputs": []
    },
    {
      "cell_type": "code",
      "metadata": {
        "id": "JujIoHVHhTsf"
      },
      "source": [
        "!python head_match_data.py"
      ],
      "execution_count": null,
      "outputs": []
    },
    {
      "cell_type": "code",
      "metadata": {
        "colab": {
          "base_uri": "https://localhost:8080/"
        },
        "id": "XapPCKRVxt6a",
        "outputId": "89e7d4e4-70c8-4731-bd30-a881b1d50b78"
      },
      "source": [
        "# double check the xyz.txt file\n",
        "import os\n",
        "datasets_path = '/content/drive/My Drive/open_pose/data'\n",
        "dataset = os.listdir(datasets_path)\n",
        "num = len(dataset)\n",
        "print(num)\n",
        "for each_dataset in dataset:\n",
        "  dataset_path = datasets_path + '/' + each_dataset\n",
        "  data3_csv = dataset_path + '/xyz.txt'\n",
        "  if not os.path.exists(data3_csv):\n",
        "    print(each_dataset)"
      ],
      "execution_count": null,
      "outputs": [
        {
          "output_type": "stream",
          "text": [
            "144\n"
          ],
          "name": "stdout"
        }
      ]
    }
  ]
}