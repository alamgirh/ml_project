{
  "nbformat": 4,
  "nbformat_minor": 0,
  "metadata": {
    "colab": {
      "name": "openpose.ipynb",
      "provenance": [],
      "collapsed_sections": [],
      "machine_shape": "hm"
    },
    "kernelspec": {
      "name": "python3",
      "display_name": "Python 3"
    },
    "accelerator": "GPU"
  },
  "cells": [
    {
      "cell_type": "markdown",
      "metadata": {
        "id": "X38L6tanrnrB"
      },
      "source": [
        "# Pose Detection with OpenPose\n",
        "\n",
        "This notebook uses an open source project [CMU-Perceptual-Computing-Lab/openpose](https://github.com/CMU-Perceptual-Computing-Lab/openpose.git) to detect/track multi person poses on a video from your Google Drive\n",
        "\n",
        "Updated base on https://colab.research.google.com/github/tugstugi/dl-colab-notebooks/blob/master/notebooks/OpenPose.ipynb"
      ]
    },
    {
      "cell_type": "markdown",
      "metadata": {
        "id": "4zDZCoNGT-CA"
      },
      "source": [
        "## Choose a video from your Google Drive"
      ]
    },
    {
      "cell_type": "code",
      "metadata": {
        "id": "0fGVMvI0WNx2"
      },
      "source": [
        "from google.colab import drive\n",
        "drive.mount('/content/drive')"
      ],
      "execution_count": null,
      "outputs": []
    },
    {
      "cell_type": "code",
      "metadata": {
        "id": "gybLwtn74aza"
      },
      "source": [
        "%cd '/content/drive/My Drive/open_pose'"
      ],
      "execution_count": null,
      "outputs": []
    },
    {
      "cell_type": "markdown",
      "metadata": {
        "id": "JC7bzC0I4DI6"
      },
      "source": [
        "##delete the .DS_Store in each frames folder"
      ]
    },
    {
      "cell_type": "code",
      "metadata": {
        "id": "bM6Pv2x_4P1f"
      },
      "source": [
        "#delete all .DS_Store\n",
        "import os\n",
        "os.chdir('data')\n",
        "!find . -name \".DS_Store\" -delete\n",
        "print(os.getcwd() + '.DS_Store delete successfully')\n"
      ],
      "execution_count": null,
      "outputs": []
    },
    {
      "cell_type": "code",
      "metadata": {
        "id": "otSPgOfq8BMp"
      },
      "source": [
        "# the number of datasets, make sure all datasets are loaded\n",
        "import os\n",
        "files = os.listdir('/content/drive/My Drive/open_pose/data')\n",
        "print(len(files))"
      ],
      "execution_count": null,
      "outputs": []
    },
    {
      "cell_type": "markdown",
      "metadata": {
        "id": "CUreojffSlnJ"
      },
      "source": [
        "## Install OpenPose on Google Colab \n"
      ]
    },
    {
      "cell_type": "code",
      "metadata": {
        "id": "FOdkDhb6ga6N"
      },
      "source": [
        "import os\n",
        "from os.path import exists, join, basename, splitext\n",
        "\n",
        "git_repo_url = 'https://github.com/CMU-Perceptual-Computing-Lab/openpose.git'\n",
        "# git_repo_url = 'https://github.com/dinatih/openpose.git'\n",
        "project_name = splitext(basename(git_repo_url))[0]\n",
        "\n",
        "if 1 or not exists(project_name):\n",
        "  !rm -rf openpose\n",
        "  # see: https://github.com/CMU-Perceptual-Computing-Lab/openpose/issues/949\n",
        "\n",
        "  print(\"install new CMake becaue of CUDA10\")\n",
        "  if not exists('cmake-3.13.0-Linux-x86_64.tar.gz'):\n",
        "    !wget -q https://cmake.org/files/v3.13/cmake-3.13.0-Linux-x86_64.tar.gz\n",
        "  !tar xfz cmake-3.13.0-Linux-x86_64.tar.gz --strip-components=1 -C /usr/local\n",
        "\n",
        "  print(\"clone openpose\")\n",
        "  !git clone -q --depth 1 $git_repo_url\n",
        "  print(\"CMakelist.txt's caffe fix\")\n",
        "  !sed -i 's/execute_process(COMMAND git checkout master WORKING_DIRECTORY ${CMAKE_SOURCE_DIR}\\/3rdparty\\/caffe)/execute_process(COMMAND git checkout f019d0dfe86f49d1140961f8c7dec22130c83154 WORKING_DIRECTORY ${CMAKE_SOURCE_DIR}\\/3rdparty\\/caffe)/g' openpose/CMakeLists.txt\n",
        "  print(\"install system dependencies\")\n",
        "  !apt-get -qq install -y libatlas-base-dev libprotobuf-dev libleveldb-dev libsnappy-dev libhdf5-serial-dev protobuf-compiler libgflags-dev libgoogle-glog-dev liblmdb-dev opencl-headers ocl-icd-opencl-dev libviennacl-dev\n",
        "  print(\"build openpose\")\n",
        "  !cd openpose && rm -rf build || true && mkdir build && cd build && cmake .. && make -j`nproc`\n",
        "\n",
        "\n"
      ],
      "execution_count": null,
      "outputs": []
    },
    {
      "cell_type": "markdown",
      "metadata": {
        "id": "OJP33ad4Mx3i"
      },
      "source": [
        "##Run openpose, frame2json\n"
      ]
    },
    {
      "cell_type": "code",
      "metadata": {
        "id": "jKsnORByZaq9"
      },
      "source": [
        "import os\n",
        "\n",
        "# make dir for json files\n",
        "def mkdir(path):\n",
        "\tfolder = os.path.exists(path)\n",
        "\n",
        "\tif not folder:\n",
        "\t\tos.makedirs(path)\n",
        "\t\tprint(path)\n",
        "\t\tprint('--- create new folder successful---')\n",
        "\telse:\n",
        "\t\tprint(path)\n",
        "\t\tprint(\"--- Folder already exists! ---\")\n",
        "\n",
        "#dataset -> each data bags\n",
        "datasets_path = '/content/drive/My Drive/open_pose/data'\n",
        "dataset = os.listdir(datasets_path)\n",
        "print(len(dataset))\n",
        "for each_dataset in dataset:\n",
        "\t# go to target bag\n",
        "\tdataset_path = datasets_path + '/' + each_dataset\n",
        "\t#make json directory\n",
        "\tjson_dir = dataset_path + '/json_file'\n",
        "\tmkdir(json_dir)\n",
        "\tframe_folder = dataset_path + '/frames'\n",
        "\t\n",
        "\t# work on frame.jpg\n",
        "\t!cd openpose && ./build/examples/openpose/openpose.bin --image_dir '{frame_folder}' --render_pose 0 --display 0 --write_json '{json_dir}'\n"
      ],
      "execution_count": null,
      "outputs": []
    },
    {
      "cell_type": "markdown",
      "metadata": {
        "id": "FUhWSfTlNU-7"
      },
      "source": [
        "##Run openpose, frame2render_img"
      ]
    },
    {
      "cell_type": "code",
      "metadata": {
        "id": "K5mJLbc7CvsG"
      },
      "source": [
        "#using -write_image\n",
        "import os\n",
        "from os.path import exists, join, basename, splitext\n",
        "colab_img_path = '/content/drive/My Drive/open_pose/frames'\n",
        "colab_openpose_image_save_path = '/content/drive/My Drive/open_pose/test_img'\n",
        "#./build/examples/openpose/openpose.bin --video examples/media/video.avi\n",
        "#!cd openpose && ./build/examples/openpose/openpose.bin --video '{colab_video_path}' # --net_resolution \"-1x736\" --scale_number 4 --scale_gap 0.25\n",
        "!cd openpose && ./build/examples/openpose/openpose.bin --image_dir '{colab_img_path}' --face --display 0 --write_images '{colab_openpose_image_save_path}' # --net_resolution \"-1x736\" --scale_number 4 --scale_gap 0.25\n"
      ],
      "execution_count": null,
      "outputs": []
    }
  ]
}